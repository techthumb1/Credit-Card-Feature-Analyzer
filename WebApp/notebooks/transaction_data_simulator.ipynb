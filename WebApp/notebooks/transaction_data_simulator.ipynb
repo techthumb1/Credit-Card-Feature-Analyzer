{
 "cells": [
  {
   "cell_type": "markdown",
   "metadata": {},
   "source": [
    "# Transaction Data Simulator\n",
    "This notebook simulates transaction data for the purposes of demonstrating the use of the [Transaction Data Simulator](). The data is generated using the [Synthetic Financial Datasets For Fraud Detection](https://www.kaggle.com/code/kerneler/starter-synthetic-jane-street-dataset-d7c7c87e-f) dataset from Kaggle and will consist of over 500,000,000 transactions with 30 features. The data will be saved to a CSV file and used in the [Credit Card Fraud Detection System]().\n",
    "\n",
    "\n",
    "\n",
    "## Transaction features\n",
    "- TRANSACTION ID: Unique transaction identifier\n",
    "- TRANSACTION TIME: Time of transaction \n",
    "- TRANSACTION AMOUNT: Amount of transaction\n",
    "- TRANSACTION TYPE: Type of transaction\n",
    "- TERMINAL ID: Identifier for each unique terminal\n",
    "- MERCHANT ID: Identifier for each unique merchant\n",
    "- CUSTOMER ID: Identifier for each unique customer\n",
    "- TRANSACTION STATUS (approved, declined, etc.): Status of transaction\n",
    "- TRANSACTION CATEGORY (groceries, gas, etc.): Category of transaction\n",
    "- TRANSACTION DESCRIPTION: Description of transaction\n",
    "- TRANSACTION LOCATION (city, state, etc.): Location of transaction\n",
    "- TRANSACTIOM FRADULENT (yes, no): Whether transaction is fraudulent converted to a binary value (1, 0)\n",
    "\n",
    "\n",
    "- TRANSACTION DATE (month, day, year): Date of transaction\n",
    "- TRANSACTION TIME (hour, minute, second): Time of transaction\n",
    "- TRANSACTION DAY OF WEEK: Day of week of transaction\n",
    "- TRANSACTION HOUR OF DAY: Hour of day of transaction\n",
    "- TRANSACTION WEEK OF YEAR: Week of year of transaction\n",
    "- TRANSACTION MONTH OF YEAR: Month of year of transaction"
   ]
  },
  {
   "cell_type": "markdown",
   "metadata": {},
   "source": [
    "### CONFIGURATION PARAMETERS\n",
    "TRANSACTION_ID, TX_DATETIME, CUSTOMER_ID, TERMINAL_ID, TX_AMOUNT, and TX_FRAUD are the only required parameters. The rest are optional and will be generated if not provided. The default values are shown below. \n",
    "\n",
    "- TRANSACTION_ID: 1\n",
    "- TX_DATETIME: 2020-01-01 00:00:00\n",
    "- CUSTOMER_ID: 1\n",
    "- TERMINAL_ID: 1\n",
    "- TX_AMOUNT: 1.00\n",
    "- TX_FRAUD: 0\n",
    "- TX_TYPE: ['PURCHASE', 'CASH WITHDRAWAL', 'CASH DEPOSIT', 'TRANSFER', 'BILL PAYMENT', 'REVERSAL']\n",
    "- TX_STATUS: ['APPROVED', 'DECLINED', 'PENDING', 'REVERSED']\n",
    "- TX_CATEGORY: ['GROCERIES', 'GAS', 'RESTAURANT', 'ENTERTAINMENT', 'TRAVEL', 'OTHER']\n",
    "- TX_DESCRIPTION: ['GROCERIES', 'GAS', 'RESTAURANT', 'ENTERTAINMENT', 'TRAVEL', 'OTHER']\n",
    "- TX_LOCATION: ['CITY', 'STATE', 'COUNTRY']\n",
    "- MERCHANT_ID: 1\n",
    "- TX_DATE: 2020-01-01\n",
    "- TX_TIME: 00:00:00\n",
    "- TX_DAY_OF_WEEK: ['MONDAY', 'TUESDAY', 'WEDNESDAY', 'THURSDAY', 'FRIDAY', 'SATURDAY', 'SUNDAY']\n",
    "- TX_HOUR_OF_DAY: 0\n",
    "- TX_WEEK_OF_YEAR: 1\n",
    "- TX_MONTH_OF_YEAR: 1\n",
    "\n",
    "### Transaction Data Simulator\n",
    "The Transaction Data Simulator is a Python class that generates transaction data. The class is initialized with the following parameters:\n",
    "  \n",
    "- transaction_id: Unique transaction identifier\n",
    "- tx_datetime: Time of transaction\n",
    "- customer_id: Identifier for each unique customer\n",
    "- terminal_id: Identifier for each unique terminal\n",
    "- tx_amount: Amount of transaction\n",
    "- tx_fraud: Whether transaction is fraudulent converted to a binary value (1, 0)\n",
    "- tx_type: Type of transaction\n",
    "- tx_status: Status of transaction\n",
    "- tx_category: Category of transaction\n",
    "- tx_description: Description of transaction\n",
    "- tx_location: Location of transaction\n",
    "- merchant_id: Identifier for each unique merchant"
   ]
  },
  {
   "cell_type": "code",
   "execution_count": null,
   "metadata": {},
   "outputs": [],
   "source": [
    "\"\"\"\n",
    "TRANSACTION_ID, TX_DATETIME, CUSTOMER_ID, TERMINAL_ID, TX_AMOUNT, and TX_FRAUD\n",
    "\"\"\"\n",
    "# Necessary imports for this notebook\n",
    "import os\n",
    "\n",
    "import numpy as np\n",
    "import pandas as pd\n",
    "\n",
    "import datetime\n",
    "import time\n",
    "\n",
    "import random\n",
    "\n",
    "# For plotting\n",
    "%matplotlib inline\n",
    "\n",
    "import matplotlib.pyplot as plt\n",
    "import seaborn as sns\n",
    "\n",
    "sns.set_style('darkgrid', {'axes.facecolor': '0.9'})"
   ]
  },
  {
   "cell_type": "markdown",
   "metadata": {},
   "source": [
    "##### SCRATCH WORK"
   ]
  },
  {
   "cell_type": "code",
   "execution_count": null,
   "metadata": {},
   "outputs": [],
   "source": [
    "\"\"\"\n",
    "SCRATCH CODE FOR TESTING\n",
    "\"\"\"\n",
    "\n",
    "# Create features for transaction data\n",
    "get_ipython().run_line_magic('matplotlib', 'inline')\n",
    "import pandas as pd\n",
    "import numpy as np\n",
    "import matplotlib.pyplot as plt\n",
    "import seaborn as sns\n",
    "import random\n",
    "import datetime\n",
    "import time\n",
    "import os\n",
    "import sys\n",
    "import json\n",
    "import pickle\n",
    "import warnings\n",
    "warnings.filterwarnings('ignore')\n",
    "from sklearn.preprocessing import StandardScaler\n",
    "from sklearn.model_selection import train_test_split\n",
    "from sklearn.metrics import confusion_matrix, classification_report, roc_auc_score, roc_curve, precision_recall_curve, average_precision_score\n",
    "from sklearn.linear_model import LogisticRegression\n",
    "from sklearn.ensemble import RandomForestClassifier\n",
    "from sklearn.svm import SVC\n",
    "from sklearn.model_selection import GridSearchCV\n",
    "from sklearn.model_selection import RandomizedSearchCV\n",
    "from sklearn.model_selection import cross_val_score\n",
    "from sklearn.model_selection import StratifiedKFold\n",
    "from sklearn.metrics import accuracy_score\n",
    "from sklearn.metrics import f1_score\n",
    "from sklearn.metrics import recall_score\n",
    "\n",
    "# Create features for transaction data\n",
    "def create_features(df):\n",
    "    df['hour'] = df['transaction_dttm'].dt.hour\n",
    "    df['day_of_week'] = df['transaction_dttm'].dt.dayofweek\n",
    "    df['day'] = df['transaction_dttm'].dt.day\n",
    "    df['month'] = df['transaction_dttm'].dt.month\n",
    "    df['year'] = df['transaction_dttm'].dt.year\n",
    "    df['amount'] = df['amount'].abs()\n",
    "    return df"
   ]
  },
  {
   "cell_type": "markdown",
   "metadata": {},
   "source": [
    "### Import libraries"
   ]
  },
  {
   "cell_type": "markdown",
   "metadata": {},
   "source": [
    "### Generate a customer table with the following features:\n",
    "- CUSTOMER_ID\n",
    "- CUSTOMER NAME\n",
    "- X_CUSTOMER_ID, Y_CUSTOMER_ID\n",
    "- MEAN_AMOUNT, STD_AMOUNT, MIN_AMOUNT, MAX_AMOUNT\n",
    "- MEAN_NBR_TRX_PER_DAY\n",
    "- MEAN_NBR_TRX_PER_WEEK\n",
    "- MEAN_NBR_TRX_PER_MONTH\n",
    "- MEAN_NBR_TRX_PER_YEAR\n",
    "- MEAN_NBR_TRX_PER_HOUR"
   ]
  },
  {
   "cell_type": "code",
   "execution_count": null,
   "metadata": {},
   "outputs": [],
   "source": [
    "# Generate customer profiles table\n",
    "def generate_customer_profiles(num_customers):\n",
    "    customer_profiles = pd.DataFrame()\n",
    "    customer_profiles['customer_id'] = range(1, num_customers + 1)\n",
    "    customer_profiles"
   ]
  },
  {
   "cell_type": "code",
   "execution_count": null,
   "metadata": {},
   "outputs": [],
   "source": [
    "# Establish features for the datset of synthetic transactions\n",
    "# TRAN\n",
    "def create_synthetic_features(df):"
   ]
  },
  {
   "cell_type": "code",
   "execution_count": null,
   "metadata": {},
   "outputs": [],
   "source": [
    "def get_list_terminals_within_radius(customer_profile, x_y_terminals, r):\n",
    "    \n",
    "    # Use numpy arrays in the following to speed up computations\n",
    "    \n",
    "    # Location (x,y) of customer as numpy array\n",
    "    x_y_customer = customer_profile[['x_customer_id','y_customer_id']].values.astype(float)\n",
    "    \n",
    "    # Squared difference in coordinates between customer and terminal locations\n",
    "    squared_diff_x_y = np.square(x_y_customer - x_y_terminals)\n",
    "    \n",
    "    # Sum along rows and compute suared root to get distance\n",
    "    dist_x_y = np.sqrt(np.sum(squared_diff_x_y, axis=1))\n",
    "    \n",
    "    # Get the indices of terminals which are at a distance less than r\n",
    "    available_terminals = list(np.where(dist_x_y<r)[0])\n",
    "    \n",
    "    # Return the list of terminal IDs\n",
    "    return available_terminals\n",
    "    "
   ]
  },
  {
   "cell_type": "code",
   "execution_count": null,
   "metadata": {},
   "outputs": [],
   "source": [
    "# We first get the geographical locations of all terminals as a numpy array\n",
    "x_y_terminals = terminal_profiles_table[['x_terminal_id','y_terminal_id']].values.astype(float)\n",
    "# And get the list of terminals within radius of $50$ for the last customer\n",
    "get_list_terminals_within_radius(customer_profiles_table.iloc[4], x_y_terminals=x_y_terminals, r=50)"
   ]
  },
  {
   "cell_type": "markdown",
   "metadata": {},
   "source": [
    "## Transaction Generation Process\n",
    "The simulation process will consist of 5 main steps:\n",
    " 1. **Generate a customer profile**: Every customer is different in their spending habits. This will be simulated by defining some properties for each customer. The main properties will be their geographical location, their spending frequency, and their spending amounts. The customer properties will be represented as a table, referred to as the customer profile table.\n",
    " 2. **Generation of terminal profiles**:  Geographical location  represented as a table, referred to as the terminal profile table.\n",
    " 3. **Relationship of customers to terminals**: The customer profile table will be joined to the terminal profile table to create a customer terminal relationship table. This table will be used to determine the location of each transaction.\n",
    " 4. **Generation of transaction data8**: The customer terminal relationship table will be used to generate the transaction data. The transaction data will be generated by randomly selecting a customer and terminal from the customer terminal relationship table. The transaction amount will be randomly selected from a normal distribution with a mean and standard deviation based on the customer profile. The transaction date and time will be randomly selected from a normal distribution with a mean and standard deviation based on the customer profile. The transaction type, status, category, description, and location will be randomly selected from a list of possible values.\n",
    " 5. **Generation of fraud data**: The transaction data will be used to generate fraud data. The fraud data will be generated by randomly selecting a transaction from the transaction data and changing the transaction status to 'REVERSED' and the transaction fraudulent flag to '1'."
   ]
  },
  {
   "cell_type": "code",
   "execution_count": null,
   "metadata": {},
   "outputs": [],
   "source": [
    "def generate_customer_profiles_table(n_customers, random_state=0):\n",
    "    \n",
    "    np.random.seed(random_state)\n",
    "        \n",
    "    customer_id_properties=[]\n",
    "    \n",
    "    # Generate customer properties from random distributions \n",
    "    for customer_id in range(n_customers):\n",
    "        \n",
    "        x_customer_id = np.random.uniform(0,100)\n",
    "        y_customer_id = np.random.uniform(0,100)\n",
    "        \n",
    "        mean_amount = np.random.uniform(5,100) # Arbitrary (but sensible) value \n",
    "        std_amount = mean_amount/2 # Arbitrary (but sensible) value\n",
    "        \n",
    "        mean_nb_tx_per_day = np.random.uniform(0,4) # Arbitrary (but sensible) value \n",
    "        \n",
    "        customer_id_properties.append([customer_id,\n",
    "                                      x_customer_id, y_customer_id,\n",
    "                                      mean_amount, std_amount,\n",
    "                                      mean_nb_tx_per_day])\n",
    "        \n",
    "    customer_profiles_table = pd.DataFrame(customer_id_properties, columns=['CUSTOMER_ID',\n",
    "                                                                      'x_customer_id', 'y_customer_id',\n",
    "                                                                      'mean_amount', 'std_amount',\n",
    "                                                                      'mean_nb_tx_per_day'])\n",
    "    \n",
    "    return customer_profiles_table"
   ]
  }
 ],
 "metadata": {
  "kernelspec": {
   "display_name": "Python 3.9.12 ('credit_card_transactions-NogY5y93')",
   "language": "python",
   "name": "python3"
  },
  "language_info": {
   "name": "python",
   "version": "3.9.12 (main, Apr  5 2022, 01:53:17) \n[Clang 12.0.0 ]"
  },
  "orig_nbformat": 4,
  "vscode": {
   "interpreter": {
    "hash": "ff53193104b14da9c7a7724cdd7c0eed45e97081ca4daa0f85d881fea8c33866"
   }
  }
 },
 "nbformat": 4,
 "nbformat_minor": 2
}
